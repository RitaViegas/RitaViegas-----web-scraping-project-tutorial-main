{
    "cells": [
        {
            "cell_type": "markdown",
            "metadata": {},
            "source": [
                "# Explora aquí\n",
                "\n",
                "Se recomienda utilizar este cuaderno con fines de exploración."
            ]
        },
        {
            "cell_type": "code",
            "execution_count": 42,
            "metadata": {},
            "outputs": [],
            "source": [
                "import os\n",
                "from bs4 import BeautifulSoup\n",
                "import requests\n",
                "import time\n",
                "import sqlite3\n",
                "import matplotlib.pyplot as plt\n",
                "import seaborn as sns\n",
                "import pandas as pd\n",
                "\n"
            ]
        },
        {
            "cell_type": "code",
            "execution_count": 69,
            "metadata": {},
            "outputs": [
                {
                    "name": "stdout",
                    "output_type": "stream",
                    "text": [
                        "                               Date Revenue\n",
                        "0                      June 30 2024   25.50\n",
                        "1                     March 31 2024   21.30\n",
                        "2                  December 31 2023   25.17\n",
                        "3                 September 30 2023   23.35\n",
                        "4                      June 30 2023   24.93\n",
                        "..                              ...     ...\n",
                        "59  Gross Profit Margin (Quarterly)  17.95%\n",
                        "60        Profit Margin (Quarterly)   5.80%\n",
                        "61                   Earnings Yield   1.61%\n",
                        "62         Operating Earnings Yield   0.94%\n",
                        "63        Normalized Earnings Yield   1.672\n",
                        "\n",
                        "[64 rows x 2 columns]\n"
                    ]
                }
            ],
            "source": [
                "# URL do site\n",
                "URL = \"https://ycharts.com/companies/TSLA/revenues\"\n",
                "\n",
                "# Making the request to the website\n",
                "response = requests.get(URL, headers=headers)\n",
                "#print(response.text)\n",
                "\n",
                "html_content = response.text\n",
                "\n",
                "# Creating the BeautifulSoup object to parse the HTML\n",
                "soup = BeautifulSoup(html_content, \"html.parser\")\n",
                "\n",
                "info = soup.find_all\n",
                "#print(info)\n",
                "\n",
                "tables = soup.find_all(\"table\", class_=\"table\")\n",
                "\n",
                "\n",
                "#dates = []\n",
                "#values = []\n",
                "\n",
                "#for table in tables:\n",
                "    #rows = table.find(\"tbody\").find_all(\"tr\")\n",
                "    #for row in rows:\n",
                "        #date = row.find_all(\"td\")[0].text.strip()\n",
                "        #value = row.find_all(\"td\")[1].text.strip()\n",
                "\n",
                "        #dates.append(date)\n",
                "        #values.append(value)\n",
                "        \n",
                "# USING COMPREHENSION LIST \n",
                "dates = [row.find_all(\"td\")[0].text.strip() for table in tables for row in table.find(\"tbody\").find_all(\"tr\")]\n",
                "values =[row.find_all(\"td\")[1].text.strip() for table in tables for row in table.find(\"tbody\").find_all(\"tr\")]\n",
                "\n",
                "\n",
                "df = pd.DataFrame({\n",
                "    \"Date\": dates,\n",
                "    \"Revenue\": values\n",
                "})\n",
                "\n",
                "\n",
                "#print(df.head())\n",
                "\n",
                "df = df.replace({\",\": \"\", \"B\": \"\"}, regex=True).dropna()\n",
                "pd.set_option('display.max_columns', None)\n",
                "print(df)\n",
                "\n",
                "\n"
            ]
        },
        {
            "cell_type": "code",
            "execution_count": null,
            "metadata": {},
            "outputs": [],
            "source": [
                "con =sqlite3.connect(\"Tesla_revenues.db\")\n",
                "cursor = con.cursor()\n",
                "\n",
                "cursor.execute(\"\"\"CREATE TABLE revenue (Date, Revenue)\"\"\")\n",
                "\n",
                "tesla_revenues_tuples = list(tesla_revenue.to_records(index = False))\n",
                "\n",
                "tesla_revenues_tuples[:5]\n",
                "\n",
                "con.commit()"
            ]
        }
    ],
    "metadata": {
        "kernelspec": {
            "display_name": "Python 3",
            "language": "python",
            "name": "python3"
        },
        "language_info": {
            "codemirror_mode": {
                "name": "ipython",
                "version": 3
            },
            "file_extension": ".py",
            "mimetype": "text/x-python",
            "name": "python",
            "nbconvert_exporter": "python",
            "pygments_lexer": "ipython3",
            "version": "3.11.9"
        },
        "orig_nbformat": 4
    },
    "nbformat": 4,
    "nbformat_minor": 2
}
